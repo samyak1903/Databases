{
 "cells": [
  {
   "cell_type": "markdown",
   "metadata": {},
   "source": [
    "# Q.1- Create a database. Create the following tables:\n",
    "1. Book\n",
    "2. Titles\n",
    "3. Publishers\n",
    "4. Zipcodes\n",
    "5. AuthorsTitles\n",
    "6. Authors<br>\n",
    "Refer to the diagram below\n",
    "<img src=\"http://res.cloudinary.com/av-images/image/upload/v1528295010/60_r3huv0.png\">\n"
   ]
  },
  {
   "cell_type": "code",
   "execution_count": 51,
   "metadata": {
    "collapsed": false
   },
   "outputs": [
    {
     "name": "stdout",
     "output_type": "stream",
     "text": [
      "Table Created\n",
      "DONE!!\n"
     ]
    }
   ],
   "source": [
    "import pymysql as pm\n",
    "try:\n",
    "    con=pm.connect(host='localhost',database='library',user='root',password='root')\n",
    "    cursor=con.cursor()\n",
    "    \n",
    "    query6='Create table Authors(AuthorID int primary key,FirstName varchar(15),MiddleName varchar(15),LastName varchar(15))'\n",
    "    #l1=[(101,'Ajay','Kumar','Sharma'),(102,'Sarthak','Kashp','Gupta'),(103,'Mayank','Singh','Rathore'),(104,'Aman','Chandra','Shukla'),(105,'Rahul','Kumar','Gupta')]\n",
    "    cursor.execute(query6)\n",
    "\n",
    "    query4='Create table Zip_Codes(Zip_Code_ID int primary key,City varchar(15),State varchar(20),Zip_Code int)'\n",
    "    #l2=[(1,'Dehradun','Uttarakhand',248001),(2,'UttarPradesh','Lucknow',249014),(3,'Maharashtra','Mumbai',34987),(4,'Rajasthan','Jaipur',123456),(5,'UttarPradesh','Lucknow',249014)]\n",
    "    cursor.execute(query4)\n",
    "\n",
    "    query3='Create table Publishers(Publisher_ID int primary key,Name varchar(15),Street_Address varchar(50),Suite_Number int,Zip_Code_ID int,foreign key(Zip_Code_ID) references Zip_Codes(Zip_Code_ID))'    \n",
    "    #l3=[(10,'AK Garg','New Friends Colony',51,2),(11,'Rahul Kumar','Vasant Vihar',53,4),(12,'Arun Guhai','Rajendra Nagar',55,3),(13,'Rahul Mishra','Laxman Vihar',54,1),(14,'Vivek Sharma','Karol Bagh',57,5)]\n",
    "    cursor.execute(query3)\n",
    "\n",
    "    query2='Create table Titles(TitleId int primary key,Title varchar(35),ISBN int,Publisher_ID int,Publication_Year int,foreign key(Publisher_ID) references Publishers(Publisher_ID))'\n",
    "    #l4=[(21,'GameOfThrones',1001,12,2005),(22,'HarryPotter',1002,11,2003),(23,'TheKiteRunner',1003,10,2014),(24,'FivePointSomeOne',1004,14,2012),(21,'13ReasonsWhy',1005,13,2015)]\n",
    "    cursor.execute(query2)\n",
    "\n",
    "    query1='Create table Books(BookId int primary key,TitleId int,Location varchar(15),Genre varchar(10),foreign key(TitleId) references Titles(TitleId))'\n",
    "    #l5=[(201,21,'Hyderabad','Action'),(202,23,'Bangalore','Drama'),(203,22,'NewDelhi','Romantic'),(204,25,'Kolkata','LoveStory'),(205,24,'Chandigarh','Drama')]\n",
    "    cursor.execute(query1)\n",
    "\n",
    "    query5='Create table Authors_Titles(Author_Title_ID int primary key,AuthorID int ,TitleId int,foreign key(AuthorID) references Authors(AuthorID),foreign key(TitleId) references Titles(TitleId))'\n",
    "    #l6=[(501,102,21),(502,101,22),(503,104,25),(504,103,24),(505,105,23)]\n",
    "    cursor.execute(query5)\n",
    "\n",
    "    print('Table Created')\n",
    "    \n",
    "except pm.DatabaseError as e:\n",
    "    if con:\n",
    "        con.rollback()\n",
    "        print('Problem occured: ', e)\n",
    "    \n",
    "finally:\n",
    "    if cursor:\n",
    "        cursor.close()\n",
    "    if con:\n",
    "        con.close()\n",
    "    print('DONE!!')\n"
   ]
  },
  {
   "cell_type": "markdown",
   "metadata": {},
   "source": [
    "# Q.2- Insert values in the tables. \n"
   ]
  },
  {
   "cell_type": "code",
   "execution_count": 53,
   "metadata": {
    "collapsed": false
   },
   "outputs": [
    {
     "name": "stdout",
     "output_type": "stream",
     "text": [
      "DONE!!\n"
     ]
    }
   ],
   "source": [
    "import pymysql as pm\n",
    "try:\n",
    "    con=pm.connect(host='localhost',database='library',user='root',password='root')\n",
    "    cursor=con.cursor()\n",
    "    query1 = \"insert into Authors values (101,'Ajay','Kumar','Sharma'),(102,'Sarthak','Kashp','Gupta'),(103,'Mayank','Singh','Rathore'),(104,'Aman','Chandra','Shukla'),(105,'Rahul','Kumar','Gupta')\"\n",
    "    cursor.execute(query1)\n",
    "    \n",
    "    query2 = \"insert into Zip_Codes values (1,'Dehradun','Uttarakhand',248001),(2,'UttarPradesh','Lucknow',249014),(3,'Maharashtra','Mumbai',34987),(4,'Rajasthan','Jaipur',123456),(5,'UttarPradesh','Lucknow',249014)\"\n",
    "    cursor.execute(query2)\n",
    "    \n",
    "    query3 = \"insert into Publishers values(10,'AK Garg','New Friends Colony',51,2),(11,'Rahul Kumar','Vasant Vihar',53,4),(12,'Arun Guhai','Rajendra Nagar',55,3),(13,'Rahul Mishra','Laxman Vihar',54,1),(14,'Vivek Sharma','Karol Bagh',57,5)\"\n",
    "    cursor.execute(query3)\n",
    "   \n",
    "    query4 = \"insert into Titles values (21,'GameOfThrones',1001,12,2005),(22,'HarryPotter',1002,11,2003),(23,'TheKiteRunner',1003,10,2014),(24,'FivePointSomeOne',1004,14,2012),(25,'13ReasonsWhy',1005,13,2015)\"\n",
    "    cursor.execute(query4)\n",
    "    \n",
    "    query5 = \"insert into Books values (201,21,'Hyderabad','Action'),(202,23,'Bangalore','Drama'),(203,22,'NewDelhi','Romantic'),(204,25,'Kolkata','LoveStory'),(205,24,'Chandigarh','Drama')\"\n",
    "    cursor.execute(query5)\n",
    "\n",
    "    query6 = \"insert into Authors_Titles values (501,102,21),(502,101,22),(503,104,25),(504,103,24),(505,105,23)\"\n",
    "    cursor.execute(query6)\n",
    "    \n",
    "    con.commit()\n",
    "\n",
    "    \n",
    "except pm.DatabaseError as e:\n",
    "    if con:\n",
    "        con.rollback()\n",
    "        print('Problem occured: ', e)\n",
    "    \n",
    "finally:\n",
    "    if cursor:\n",
    "        cursor.close()\n",
    "    if con:\n",
    "        con.close()\n",
    "    print('DONE!!')\n"
   ]
  },
  {
   "cell_type": "markdown",
   "metadata": {
    "collapsed": true
   },
   "source": [
    "# Q.3- Update any values in any of the tables. Print the original and updated values.\n"
   ]
  },
  {
   "cell_type": "code",
   "execution_count": 64,
   "metadata": {
    "collapsed": false
   },
   "outputs": [
    {
     "name": "stdout",
     "output_type": "stream",
     "text": [
      "Publisher_ID: 14, Name: Vivek Sharma, Street_Adress: Rajpur Road, Suite_Number: 57, Zip_Code_ID: 5\n",
      "\n",
      "Updated Table:\n",
      "Publisher_ID: 10, Name: AK Garg, Street_Adress: New Friends Colony, Suite_Number: 51, Zip_Code_ID: 2\n",
      "Publisher_ID: 11, Name: Rahul Kumar, Street_Adress: Vasant Vihar, Suite_Number: 53, Zip_Code_ID: 4\n",
      "Publisher_ID: 12, Name: Arun Guhai, Street_Adress: Rajendra Nagar, Suite_Number: 55, Zip_Code_ID: 3\n",
      "Publisher_ID: 13, Name: Rahul Mishra, Street_Adress: Laxman Vihar, Suite_Number: 54, Zip_Code_ID: 1\n",
      "Publisher_ID: 14, Name: Vivek Sharma, Street_Adress: Rajpur Road, Suite_Number: 57, Zip_Code_ID: 5\n",
      "\n",
      "DONE!!\n"
     ]
    }
   ],
   "source": [
    "import pymysql as pm\n",
    "try:\n",
    "    con=pm.connect(host='localhost',database='library',user='root',password='root')\n",
    "    cursor=con.cursor()\n",
    "    query1=\"Select * from Publishers where Publisher_ID=14\"\n",
    "    cursor.execute(query1)\n",
    "    data = cursor.fetchall()\n",
    "    for row in data:\n",
    "        print('Publisher_ID: {}, Name: {}, Street_Adress: {}, Suite_Number: {}, Zip_Code_ID: {}'\\\n",
    "             .format(row[0], row[1], row[2], row[3],row[4]))\n",
    "   \n",
    "    query2=\"Update Publishers set Street_Address='Rajpur Road' where Publisher_ID=14\"\n",
    "    cursor.execute(query2)\n",
    "    con.commit()\n",
    "    \n",
    "    print(\"\\nUpdated Table:\")\n",
    "    query3=\"Select * from Publishers\"\n",
    "    cursor.execute(query3)\n",
    "    d = cursor.fetchall()\n",
    "    for row in d:\n",
    "        print('Publisher_ID: {}, Name: {}, Street_Adress: {}, Suite_Number: {}, Zip_Code_ID: {}'\\\n",
    "             .format(row[0], row[1], row[2], row[3],row[4]))\n",
    "   \n",
    "except pm.DatabaseError as e:\n",
    "    if con:\n",
    "        con.rollback()\n",
    "        print('Problem occured: ', e)\n",
    "    \n",
    "finally:\n",
    "    if cursor:\n",
    "        cursor.close()\n",
    "    if con:\n",
    "        con.close()\n",
    "    print('\\nDONE!!') \n",
    "    "
   ]
  },
  {
   "cell_type": "code",
   "execution_count": null,
   "metadata": {
    "collapsed": true
   },
   "outputs": [],
   "source": []
  }
 ],
 "metadata": {
  "kernelspec": {
   "display_name": "Python 3",
   "language": "python",
   "name": "python3"
  }
 },
 "nbformat": 4,
 "nbformat_minor": 0
}
